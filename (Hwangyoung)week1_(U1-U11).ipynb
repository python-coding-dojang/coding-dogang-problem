{
 "cells": [
  {
   "attachments": {},
   "cell_type": "markdown",
   "metadata": {},
   "source": [
    "# Week 1"
   ]
  },
  {
   "attachments": {},
   "cell_type": "markdown",
   "metadata": {},
   "source": [
    "## Unit 1 소프트웨어 교육과 파이썬"
   ]
  },
  {
   "cell_type": "code",
   "execution_count": 16,
   "metadata": {},
   "outputs": [],
   "source": [
    "# 좋은 멘트 감사"
   ]
  },
  {
   "attachments": {},
   "cell_type": "markdown",
   "metadata": {},
   "source": [
    "## Unit 2 파이썬 설치하기"
   ]
  },
  {
   "cell_type": "code",
   "execution_count": 17,
   "metadata": {},
   "outputs": [],
   "source": [
    "# 좋은 설치 감사"
   ]
  },
  {
   "attachments": {},
   "cell_type": "markdown",
   "metadata": {},
   "source": [
    "## Unit 3 Hello, world!로 시작하기"
   ]
  },
  {
   "cell_type": "code",
   "execution_count": 20,
   "metadata": {},
   "outputs": [
    {
     "name": "stdout",
     "output_type": "stream",
     "text": [
      "Hello, World!\n",
      "Hello, Python\n"
     ]
    }
   ],
   "source": [
    "# print 함수 사용하기\n",
    "print('Hello, World!')\n",
    "print('Hello, Python')"
   ]
  },
  {
   "cell_type": "code",
   "execution_count": 21,
   "metadata": {},
   "outputs": [
    {
     "name": "stdout",
     "output_type": "stream",
     "text": [
      "Hello, world!\n",
      "Python Programming\n"
     ]
    }
   ],
   "source": [
    "# *연습문제*\n",
    "# 다음 소스 코드를 완성하여 'Hello, world!'와 'Python Programming'이 각 줄에 출력되게 만드세요.\n",
    "# print('Hello, world!')\n",
    "# print(                  )\n",
    "\n",
    "print('Hello, world!')\n",
    "print('Python Programming')"
   ]
  },
  {
   "attachments": {},
   "cell_type": "markdown",
   "metadata": {},
   "source": [
    "## Unit 4 기본 문법 알아보기"
   ]
  },
  {
   "attachments": {},
   "cell_type": "markdown",
   "metadata": {},
   "source": [
    "### 4.1 세미콜론"
   ]
  },
  {
   "cell_type": "code",
   "execution_count": 23,
   "metadata": {},
   "outputs": [
    {
     "name": "stdout",
     "output_type": "stream",
     "text": [
      "Hello, World!\n",
      "Hello, Python\n",
      "Hello, World!\n",
      "Hello, Python\n"
     ]
    }
   ],
   "source": [
    "# 세미콜론을 붙이지 않아도 되는데, 붙여도 에러는 발생하지 않음\n",
    "# 이렇게 쓰는것과\n",
    "print('Hello, World!')\n",
    "print('Hello, Python')\n",
    "# 이렇게 쓰는것이 동일\n",
    "print('Hello, World!'); print('Hello, Python')"
   ]
  },
  {
   "attachments": {},
   "cell_type": "markdown",
   "metadata": {},
   "source": [
    "### 4.2 주석"
   ]
  },
  {
   "cell_type": "code",
   "execution_count": 24,
   "metadata": {},
   "outputs": [
    {
     "name": "stdout",
     "output_type": "stream",
     "text": [
      "Hello, World!\n"
     ]
    }
   ],
   "source": [
    "# 이게 바로 주석인데...\n",
    "# 코드 뒤에도 주석을 붙일수 있다?!\n",
    "print('Hello, World!') # 이걸 또 하네"
   ]
  },
  {
   "attachments": {},
   "cell_type": "markdown",
   "metadata": {},
   "source": [
    "### 4.3 들여쓰기"
   ]
  },
  {
   "cell_type": "code",
   "execution_count": 43,
   "metadata": {},
   "outputs": [
    {
     "name": "stdout",
     "output_type": "stream",
     "text": [
      "10입니다.\n",
      "10입니다.\n",
      "10입니다.\n"
     ]
    }
   ],
   "source": [
    "# 들여쓰기는 아래같이 해야함\n",
    "## 들여쓰기 2칸\n",
    "a = 10\n",
    "if a == 10:\n",
    "  print('10입니다.')\n",
    "else:\n",
    "  print('다시')\n",
    "\n",
    "## 들여쓰기 4칸 - 국룰이라고 함\n",
    "if a == 10:\n",
    "    print('10입니다.')\n",
    "else:\n",
    "   print('다시')\n",
    "\n",
    "## 탭1칸\n",
    "if a == 10:\n",
    "    print('10입니다.')\n",
    "else:\n",
    "    print('다시')"
   ]
  },
  {
   "attachments": {},
   "cell_type": "markdown",
   "metadata": {},
   "source": [
    "### 4.4 코드블록"
   ]
  },
  {
   "cell_type": "code",
   "execution_count": 45,
   "metadata": {},
   "outputs": [
    {
     "name": "stdout",
     "output_type": "stream",
     "text": [
      "10\n",
      "입니다!\n"
     ]
    }
   ],
   "source": [
    "# 코드 블록 : 특정한 동작을 위해서 코드가 모여 있는 상태 \n",
    "# 파이썬의 코드블록은 들여쓰기 기준으로 코드블록을 구성한다.\n",
    "## 들여쓰기 4칸 - 국룰이라고 함\n",
    "a = 10\n",
    "if a == 10:\n",
    "    print('10')\n",
    "    print('입니다!')\n",
    "else:\n",
    "   print('다시')"
   ]
  },
  {
   "attachments": {},
   "cell_type": "markdown",
   "metadata": {},
   "source": [
    "## Unit 5 숫자 계산하기"
   ]
  },
  {
   "attachments": {},
   "cell_type": "markdown",
   "metadata": {},
   "source": [
    "### 5.1 정수 계산하기"
   ]
  },
  {
   "cell_type": "code",
   "execution_count": 57,
   "metadata": {},
   "outputs": [
    {
     "data": {
      "text/plain": [
       "6"
      ]
     },
     "execution_count": 57,
     "metadata": {},
     "output_type": "execute_result"
    }
   ],
   "source": [
    "# 사칙연산\n",
    "2 * 3"
   ]
  },
  {
   "cell_type": "code",
   "execution_count": 88,
   "metadata": {},
   "outputs": [
    {
     "data": {
      "text/plain": [
       "2"
      ]
     },
     "execution_count": 88,
     "metadata": {},
     "output_type": "execute_result"
    }
   ],
   "source": [
    "# 나눗셈 후 소수점 이하를 버리는 // 연산자\n",
    "5 // 2"
   ]
  },
  {
   "cell_type": "code",
   "execution_count": 89,
   "metadata": {},
   "outputs": [
    {
     "data": {
      "text/plain": [
       "1"
      ]
     },
     "execution_count": 89,
     "metadata": {},
     "output_type": "execute_result"
    }
   ],
   "source": [
    "# 나눗셈 후 나머지를 구하는 % 연산자\n",
    "5 % 2"
   ]
  },
  {
   "cell_type": "code",
   "execution_count": 91,
   "metadata": {},
   "outputs": [
    {
     "data": {
      "text/plain": [
       "(2, 1)"
      ]
     },
     "execution_count": 91,
     "metadata": {},
     "output_type": "execute_result"
    }
   ],
   "source": [
    "# 몫과 나머지를 함께 구하기\n",
    "divmod(5,2)"
   ]
  },
  {
   "cell_type": "code",
   "execution_count": 67,
   "metadata": {},
   "outputs": [
    {
     "data": {
      "text/plain": [
       "1024.0"
      ]
     },
     "execution_count": 67,
     "metadata": {},
     "output_type": "execute_result"
    }
   ],
   "source": [
    "# 거듭제곱을 구하는 ** 연산자\n",
    "2.0 ** 10"
   ]
  },
  {
   "cell_type": "code",
   "execution_count": 73,
   "metadata": {},
   "outputs": [
    {
     "data": {
      "text/plain": [
       "5"
      ]
     },
     "execution_count": 73,
     "metadata": {},
     "output_type": "execute_result"
    }
   ],
   "source": [
    "# 값을 정수로 만들기\n",
    "int(5.4342) # 실수를 정수로\n",
    "int(3.23421/2.11132) # 계산식을 정수로\n",
    "int('5') # 문자를 정수로(문자도 정수여야한다)"
   ]
  },
  {
   "cell_type": "code",
   "execution_count": 82,
   "metadata": {},
   "outputs": [
    {
     "data": {
      "text/plain": [
       "str"
      ]
     },
     "execution_count": 82,
     "metadata": {},
     "output_type": "execute_result"
    }
   ],
   "source": [
    "# 객체의 자료형 알아내기\n",
    "type(10) # int\n",
    "type(10.22) # float\n",
    "type('박선생') # string"
   ]
  },
  {
   "cell_type": "code",
   "execution_count": 86,
   "metadata": {},
   "outputs": [
    {
     "data": {
      "text/plain": [
       "14"
      ]
     },
     "execution_count": 86,
     "metadata": {},
     "output_type": "execute_result"
    }
   ],
   "source": [
    "# 정수는 10진수 이외에도 2진수, 8진수, 16진수로도 표현할 수 있습니다.\n",
    "\n",
    "## 2진수: 숫자 앞에 0b를 붙이며 0과 1을 사용합니다.\n",
    "0b1 # 2\n",
    "## 8진수: 숫자 앞에 0o(숫자 0과 소문자 o)를 붙이며 0부터 7까지 사용합니다.\n",
    "0o6 # 6\n",
    "## 16진수: 숫자 앞에 0x 또는 0X를 붙이며 0부터 9, A부터 F까지 사용합니다(소문자 a부터 f도 가능).\n",
    "0Xe # 14"
   ]
  },
  {
   "attachments": {},
   "cell_type": "markdown",
   "metadata": {},
   "source": [
    "### 5.2 실수 계산하기"
   ]
  },
  {
   "cell_type": "code",
   "execution_count": 93,
   "metadata": {},
   "outputs": [
    {
     "data": {
      "text/plain": [
       "1.5999999999999996"
      ]
     },
     "execution_count": 93,
     "metadata": {},
     "output_type": "execute_result"
    }
   ],
   "source": [
    "# 사칙연산\n",
    "4.3 - 2.7 ## 값이 왜 이러냐?"
   ]
  },
  {
   "cell_type": "code",
   "execution_count": 95,
   "metadata": {},
   "outputs": [
    {
     "data": {
      "text/plain": [
       "1.2999999999999998"
      ]
     },
     "execution_count": 95,
     "metadata": {},
     "output_type": "execute_result"
    }
   ],
   "source": [
    "# 실수와 정수를 같이 쓰면 실수\n",
    "4.3 - 3"
   ]
  },
  {
   "cell_type": "code",
   "execution_count": 106,
   "metadata": {},
   "outputs": [
    {
     "data": {
      "text/plain": [
       "5.0"
      ]
     },
     "execution_count": 106,
     "metadata": {},
     "output_type": "execute_result"
    }
   ],
   "source": [
    "# 값을 실수로 만들기\n",
    "float(5) # 정수를 실수로\n",
    "float(7/3) # 계산식을 실수로\n",
    "float('5') # 문자를 실수로(문자도 실수여야한다)"
   ]
  },
  {
   "cell_type": "code",
   "execution_count": 110,
   "metadata": {},
   "outputs": [
    {
     "data": {
      "text/plain": [
       "(1.2+1.3j)"
      ]
     },
     "execution_count": 110,
     "metadata": {},
     "output_type": "execute_result"
    }
   ],
   "source": [
    "# 파이썬에서는 실수부와 허수부로 이루어진 복소수(complex number)도 사용할 수 있습니다.\n",
    "# 이때 허수부는 숫자 뒤에 j를 붙입니다(수학에서는 허수를 i로 표현하지만 공학에서는 j를 사용합니다).\n",
    "1.2 + 1.3j\n",
    "complex(1.2, 1.3)"
   ]
  },
  {
   "attachments": {},
   "cell_type": "markdown",
   "metadata": {},
   "source": [
    "### 5.3 괄호 사용하기"
   ]
  },
  {
   "cell_type": "code",
   "execution_count": 111,
   "metadata": {},
   "outputs": [],
   "source": [
    "# 이건 좀... "
   ]
  },
  {
   "attachments": {},
   "cell_type": "markdown",
   "metadata": {},
   "source": [
    "### 5.5 연습문제"
   ]
  },
  {
   "cell_type": "code",
   "execution_count": 116,
   "metadata": {},
   "outputs": [
    {
     "name": "stdout",
     "output_type": "stream",
     "text": [
      "7\n"
     ]
    }
   ],
   "source": [
    "# 국립환경과학원에서는 아파트에서 소음이 가장 심한 층수를 구하는 계산식을 발표했습니다.\n",
    "# 소음이 가장 심한 층은 0.2467 * 도로와의 거리(m) + 4.159입니다.\n",
    "# 다음 소스 코드를 완성하여 소음이 가장 심한 층수가 출력되게 만드세요. \n",
    "# 단, 층수를 출력할 때는 소수점 이하 자리는 버립니다(정수로 출력).\n",
    "# 도로와의 거리가 12일때, 소음도는?\n",
    "\n",
    "distance = 12\n",
    "\n",
    "noise = (0.2467 * distance) + 4.159\n",
    "\n",
    "print(int(noise)) ## 개쩔쥬?"
   ]
  },
  {
   "attachments": {},
   "cell_type": "markdown",
   "metadata": {},
   "source": [
    "## Unit 6 변수와 입력 사용하기"
   ]
  },
  {
   "attachments": {},
   "cell_type": "markdown",
   "metadata": {},
   "source": [
    "### 6.1 변수 만들기"
   ]
  },
  {
   "cell_type": "code",
   "execution_count": 121,
   "metadata": {},
   "outputs": [
    {
     "name": "stdout",
     "output_type": "stream",
     "text": [
      "18.2\n",
      "13.2\n",
      "Hello, Python!\n"
     ]
    }
   ],
   "source": [
    "# 변수 = 값 으로 만듦\n",
    "# == 는 equal 연산자\n",
    "a = 10.2\n",
    "b = 8\n",
    "c = '3'\n",
    "d = 'Hello, Python!'\n",
    "\n",
    "print(a + b)\n",
    "print(a + float(c))\n",
    "print(d)"
   ]
  },
  {
   "cell_type": "code",
   "execution_count": 127,
   "metadata": {},
   "outputs": [
    {
     "name": "stdout",
     "output_type": "stream",
     "text": [
      "10\n",
      "20\n",
      "30\n",
      "3.3\n",
      "10 20 30 3.3\n"
     ]
    }
   ],
   "source": [
    "a, b, c, d = 10, 20, 30, 3.3\n",
    "\n",
    "print(a)\n",
    "print(b)\n",
    "print(c)\n",
    "print(d)\n",
    "print(a, b, c, d)"
   ]
  },
  {
   "cell_type": "code",
   "execution_count": 129,
   "metadata": {},
   "outputs": [
    {
     "name": "stdout",
     "output_type": "stream",
     "text": [
      "10.2 10.2 10.2\n"
     ]
    }
   ],
   "source": [
    "a = b = c = 10.2\n",
    "\n",
    "print(a, b, c)"
   ]
  },
  {
   "cell_type": "code",
   "execution_count": 134,
   "metadata": {},
   "outputs": [
    {
     "name": "stdout",
     "output_type": "stream",
     "text": [
      "4.4 3.3 None\n"
     ]
    }
   ],
   "source": [
    "a = 3.3\n",
    "b = 4.4\n",
    "c = 5.5\n",
    "d = None\n",
    "\n",
    "a , b = b , a\n",
    "del c\n",
    "\n",
    "print(a, b, d)\n",
    "# print(a, b, c) c가 삭제되서 에러남"
   ]
  },
  {
   "attachments": {},
   "cell_type": "markdown",
   "metadata": {},
   "source": [
    "### 6.2 변수로 계산하기"
   ]
  },
  {
   "cell_type": "code",
   "execution_count": 142,
   "metadata": {},
   "outputs": [
    {
     "name": "stdout",
     "output_type": "stream",
     "text": [
      "15\n",
      "10\n",
      "15\n",
      "20\n"
     ]
    }
   ],
   "source": [
    "# 변수로 계산하고 재할당을 안하면 그대로\n",
    "a = 10\n",
    "b = 20\n",
    "c = 30\n",
    "\n",
    "print(a + 5) # 실행시 15\n",
    "print(a) # a는 여전히 10\n",
    "\n",
    "a = a + 5\n",
    "print(a) # a가 15로 재할당됨\n",
    "a += 5\n",
    "print(a) # a가 20으로 재할당됨, a = a + 5와 같은역할"
   ]
  },
  {
   "cell_type": "code",
   "execution_count": 143,
   "metadata": {},
   "outputs": [
    {
     "name": "stdout",
     "output_type": "stream",
     "text": [
      "10 -10\n",
      "7 -7\n"
     ]
    }
   ],
   "source": [
    "# 부호붙이기\n",
    "a = 10\n",
    "b = -7\n",
    "\n",
    "print(a, -a)\n",
    "print(-b, b)"
   ]
  },
  {
   "attachments": {},
   "cell_type": "markdown",
   "metadata": {},
   "source": [
    "### 6.3 입력 값을 변수에 저장하기"
   ]
  },
  {
   "cell_type": "code",
   "execution_count": 156,
   "metadata": {},
   "outputs": [
    {
     "name": "stdout",
     "output_type": "stream",
     "text": [
      "니가 한 말 : adsadad\n"
     ]
    }
   ],
   "source": [
    "# 입력 값을 받을 때는 input() 함수 사용\n",
    "a = input()\n",
    "\n",
    "print('니가 한 말 :',a)"
   ]
  },
  {
   "cell_type": "code",
   "execution_count": 151,
   "metadata": {},
   "outputs": [
    {
     "name": "stdout",
     "output_type": "stream",
     "text": [
      "니가 한말은 ㅁㅇㅁㄴㅇ 다.\n"
     ]
    }
   ],
   "source": [
    "# 입력 받을때 멘트를 치고싶으면\n",
    "a = input('하고싶은 말 :')\n",
    "\n",
    "print('니가 한말은',a,'다.')"
   ]
  },
  {
   "cell_type": "code",
   "execution_count": 154,
   "metadata": {},
   "outputs": [
    {
     "name": "stdout",
     "output_type": "stream",
     "text": [
      "첫 번째 숫자는 10 입니다.\n",
      "두 번째 숫자는 3 입니다.\n",
      "합계는 103 입니다.\n"
     ]
    }
   ],
   "source": [
    "# 두 번 이상의 입력을 받을 수 있음\n",
    "a = input('첫 번째 숫자를 입력하세요: ')\n",
    "b = input('두 번째 숫자를 입력하세요: ')\n",
    "\n",
    "print('첫 번째 숫자는', a, '입니다.')\n",
    "print('두 번째 숫자는', b, '입니다.')\n",
    "print('합계는', a + b, '입니다.')"
   ]
  },
  {
   "cell_type": "code",
   "execution_count": 155,
   "metadata": {},
   "outputs": [
    {
     "name": "stdout",
     "output_type": "stream",
     "text": [
      "첫 번째 숫자는 10.0 입니다.\n",
      "두 번째 숫자는 3.0 입니다.\n",
      "합계는 13.0 입니다.\n"
     ]
    }
   ],
   "source": [
    "# 위에서 결과가 이상한건 string 으로 입력되었기 때문\n",
    "a = input('첫 번째 숫자를 입력하세요: ')\n",
    "b = input('두 번째 숫자를 입력하세요: ')\n",
    "\n",
    "a = float(a)\n",
    "b = float(b)\n",
    "\n",
    "print('첫 번째 숫자는', a, '입니다.')\n",
    "print('두 번째 숫자는', b, '입니다.')\n",
    "print('합계는', a + b, '입니다.')"
   ]
  },
  {
   "attachments": {},
   "cell_type": "markdown",
   "metadata": {},
   "source": [
    "### 6.4 입력 값을 변수 두 개에 저장하기"
   ]
  },
  {
   "cell_type": "code",
   "execution_count": 157,
   "metadata": {},
   "outputs": [
    {
     "name": "stdout",
     "output_type": "stream",
     "text": [
      "앞의 멘트는 니가 입니다.\n",
      "뒤의 멘트는 뭘알아 입니다.\n"
     ]
    }
   ],
   "source": [
    "# 입력받은 값을 두 개 이상으로 나눠서 저장할 수 있음\n",
    "# 연어처리 할 때 사용하나?\n",
    "\n",
    "a, b = input('띄어쓰기 한 번만하고 문장이나 단어를 말해보시오').split()\n",
    "\n",
    "print('앞의 멘트는', a, '입니다.')\n",
    "print('뒤의 멘트는', b, '입니다.')"
   ]
  },
  {
   "cell_type": "code",
   "execution_count": 163,
   "metadata": {},
   "outputs": [
    {
     "name": "stdout",
     "output_type": "stream",
     "text": [
      "첫 번째 숫자는 2.3 입니다.\n",
      "두 번째 숫자는 4.2 입니다.\n",
      "합계는 6.5 입니다.\n"
     ]
    }
   ],
   "source": [
    "# 입력받은 숫자 변환시 map 를 사용하는 방법\n",
    "a, b = map(float, input('두 숫자를 콤마로 구분하여 입력하면, 두 숫자를 더해드릴게요').split(','))\n",
    "\n",
    "print('첫 번째 숫자는', a, '입니다.')\n",
    "print('두 번째 숫자는', b, '입니다.')\n",
    "print('합계는', a + b, '입니다.')"
   ]
  },
  {
   "attachments": {},
   "cell_type": "markdown",
   "metadata": {},
   "source": [
    "### 6.6 연습문제"
   ]
  },
  {
   "cell_type": "code",
   "execution_count": 165,
   "metadata": {},
   "outputs": [
    {
     "name": "stdout",
     "output_type": "stream",
     "text": [
      "a= 10\n",
      "b= 15\n",
      "c= 3\n",
      "a+b+c= 28\n"
     ]
    }
   ],
   "source": [
    "# 다음 소스 코드를 완성하여 정수 세 개를 입력받고 합계가 출력되게 만드세요.\n",
    "\n",
    "a, b, c = map(int, input().split())\n",
    "\n",
    "print('a=',a)\n",
    "print('b=',b)\n",
    "print('c=',c)\n",
    "print('a+b+c=',a + b + c) ## 개쩔쥬?"
   ]
  },
  {
   "attachments": {},
   "cell_type": "markdown",
   "metadata": {},
   "source": [
    "## Unit 7 출력 방법 알아보기"
   ]
  },
  {
   "attachments": {},
   "cell_type": "markdown",
   "metadata": {},
   "source": [
    "### 7.1 값을 여러개 출력하기"
   ]
  },
  {
   "cell_type": "code",
   "execution_count": 166,
   "metadata": {},
   "outputs": [
    {
     "name": "stdout",
     "output_type": "stream",
     "text": [
      "1 2 3\n"
     ]
    }
   ],
   "source": [
    "# 값을 여러개 출력할 때 콤마(,)로 구분할 수 있음\n",
    "\n",
    "a , b, c = 1, 2, 3\n",
    "\n",
    "print(a, b, c)"
   ]
  },
  {
   "cell_type": "code",
   "execution_count": 173,
   "metadata": {},
   "outputs": [
    {
     "name": "stdout",
     "output_type": "stream",
     "text": [
      "1,2,3\n",
      "1;2;3\n",
      "1 2 3\n",
      "1    2    3\n"
     ]
    }
   ],
   "source": [
    "# sep로 값 사이에 문자 넣기\n",
    "\n",
    "print(1, 2, 3, sep=',')\n",
    "print(1, 2, 3, sep=';')\n",
    "print(1, 2, 3)\n",
    "print(1, 2, 3, sep='    ')"
   ]
  },
  {
   "attachments": {},
   "cell_type": "markdown",
   "metadata": {},
   "source": [
    "### 7.2 줄바꿈 활용하기"
   ]
  },
  {
   "cell_type": "code",
   "execution_count": 176,
   "metadata": {},
   "outputs": [
    {
     "name": "stdout",
     "output_type": "stream",
     "text": [
      "1 2 3\n",
      "1\n",
      "2\n",
      "3\n",
      "1\n",
      "2\n",
      "3\n"
     ]
    }
   ],
   "source": [
    "# 줄바꿔 출력하려면 정규표현식 '\\n' 사용\n",
    "\n",
    "print(1, 2, 3)\n",
    "print(1, 2, 3, sep='\\n')\n",
    "print('1\\n2\\n3')"
   ]
  },
  {
   "cell_type": "code",
   "execution_count": 179,
   "metadata": {},
   "outputs": [
    {
     "name": "stdout",
     "output_type": "stream",
     "text": [
      "123\n",
      "1 2 3\n"
     ]
    }
   ],
   "source": [
    "# end를 사용하면 줄 안바뀌게도 할 수 있음\n",
    "\n",
    "print(1, end='')    # end에 빈 문자열을 지정하면 다음 번 출력이 바로 뒤에 오게 됨\n",
    "print(2, end='')\n",
    "print(3)\n",
    "\n",
    "# 공백 추가 버전\n",
    "\n",
    "print(1, end=' ')    # end에 공백 한 칸 지정\n",
    "print(2, end=' ')\n",
    "print(3)"
   ]
  },
  {
   "attachments": {},
   "cell_type": "markdown",
   "metadata": {},
   "source": [
    "### 7.4 연습문제"
   ]
  },
  {
   "cell_type": "code",
   "execution_count": 184,
   "metadata": {},
   "outputs": [
    {
     "name": "stdout",
     "output_type": "stream",
     "text": [
      "2000/10/27 11:43:59\n"
     ]
    }
   ],
   "source": [
    "# 다음 소스 코드를 완성하여 날짜와 시간이 출력되게 만드세요.\n",
    "\n",
    "# 2000/10/27 11:43:59\n",
    "\n",
    "year = 2000\n",
    "month = 10\n",
    "day = 27\n",
    "hour = 11\n",
    "minute = 43\n",
    "second = 59\n",
    " \n",
    "print(year, month, day, sep='/', end=' ')\n",
    "print(hour, minute, second, sep=':')"
   ]
  },
  {
   "attachments": {},
   "cell_type": "markdown",
   "metadata": {},
   "source": [
    "## Unit 8 불과 비교, 논리 연산자 알아보기"
   ]
  },
  {
   "attachments": {},
   "cell_type": "markdown",
   "metadata": {},
   "source": [
    "### 8.1 볼과 비교 연산자 사용하기"
   ]
  },
  {
   "cell_type": "code",
   "execution_count": 196,
   "metadata": {},
   "outputs": [
    {
     "name": "stdout",
     "output_type": "stream",
     "text": [
      "True\n",
      "False\n",
      "False\n",
      "True\n",
      "False\n"
     ]
    }
   ],
   "source": [
    "# 참과 거짓을 판단하기 위해 사용하는 불(boolean)연산자 알아보기\n",
    "\n",
    "print(3>1)\n",
    "print(type(1.0)==int)\n",
    "print('Python' != 'Python')\n",
    "print(10 <= 20)\n",
    "\n",
    "a, b = 10, 20\n",
    "print(a is b)\n",
    "\n",
    "# 값 비교에 is를 쓰지 않기\n",
    "# >>> a = -5\n",
    "# >>> a is -5\n",
    "# True\n",
    "# >>> a = -6\n",
    "# >>> a is -6\n",
    "# False"
   ]
  },
  {
   "attachments": {},
   "cell_type": "markdown",
   "metadata": {},
   "source": [
    "### 8.2 논리 연산자 사용하기"
   ]
  },
  {
   "attachments": {},
   "cell_type": "markdown",
   "metadata": {},
   "source": [
    "### 8.4 연습문제 : 합격여부 출력하기"
   ]
  },
  {
   "attachments": {},
   "cell_type": "markdown",
   "metadata": {},
   "source": [
    "#### 니가 뭘아냐"
   ]
  }
 ],
 "metadata": {
  "kernelspec": {
   "display_name": "hwangyoung",
   "language": "python",
   "name": "python3"
  },
  "language_info": {
   "codemirror_mode": {
    "name": "ipython",
    "version": 3
   },
   "file_extension": ".py",
   "mimetype": "text/x-python",
   "name": "python",
   "nbconvert_exporter": "python",
   "pygments_lexer": "ipython3",
   "version": "3.8.16"
  },
  "orig_nbformat": 4
 },
 "nbformat": 4,
 "nbformat_minor": 2
}
